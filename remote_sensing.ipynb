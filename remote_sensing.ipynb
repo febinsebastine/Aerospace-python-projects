{
 "cells": [
  {
   "cell_type": "code",
   "execution_count": 42,
   "id": "b488c9b2-6675-47ca-a1e2-dadd04e57561",
   "metadata": {},
   "outputs": [
    {
     "ename": "ValueError",
     "evalue": "need at least one array to stack",
     "output_type": "error",
     "traceback": [
      "\u001b[1;31m---------------------------------------------------------------------------\u001b[0m",
      "\u001b[1;31mValueError\u001b[0m                                Traceback (most recent call last)",
      "Cell \u001b[1;32mIn[42], line 22\u001b[0m\n\u001b[0;32m     19\u001b[0m         data\u001b[38;5;241m.\u001b[39mappend(file\u001b[38;5;241m.\u001b[39mread(\u001b[38;5;241m1\u001b[39m))  \u001b[38;5;66;03m# Read the first layer\u001b[39;00m\n\u001b[0;32m     21\u001b[0m \u001b[38;5;66;03m# Step 3: Convert the list into a 3D NumPy array\u001b[39;00m\n\u001b[1;32m---> 22\u001b[0m stack_data \u001b[38;5;241m=\u001b[39m np\u001b[38;5;241m.\u001b[39mstack(data)\n\u001b[0;32m     24\u001b[0m \u001b[38;5;66;03m# Step 4: Visualize all bands separately\u001b[39;00m\n\u001b[0;32m     25\u001b[0m ep\u001b[38;5;241m.\u001b[39mplot_bands(stack_data, cmap\u001b[38;5;241m=\u001b[39m\u001b[38;5;124m'\u001b[39m\u001b[38;5;124mgist_earth\u001b[39m\u001b[38;5;124m'\u001b[39m, figsize\u001b[38;5;241m=\u001b[39m(\u001b[38;5;241m20\u001b[39m, \u001b[38;5;241m12\u001b[39m), cols\u001b[38;5;241m=\u001b[39m\u001b[38;5;241m6\u001b[39m, cbar\u001b[38;5;241m=\u001b[39m\u001b[38;5;28;01mFalse\u001b[39;00m)\n",
      "File \u001b[1;32mD:\\anaconda\\Lib\\site-packages\\numpy\\core\\shape_base.py:445\u001b[0m, in \u001b[0;36mstack\u001b[1;34m(arrays, axis, out, dtype, casting)\u001b[0m\n\u001b[0;32m    443\u001b[0m arrays \u001b[38;5;241m=\u001b[39m [asanyarray(arr) \u001b[38;5;28;01mfor\u001b[39;00m arr \u001b[38;5;129;01min\u001b[39;00m arrays]\n\u001b[0;32m    444\u001b[0m \u001b[38;5;28;01mif\u001b[39;00m \u001b[38;5;129;01mnot\u001b[39;00m arrays:\n\u001b[1;32m--> 445\u001b[0m     \u001b[38;5;28;01mraise\u001b[39;00m \u001b[38;5;167;01mValueError\u001b[39;00m(\u001b[38;5;124m'\u001b[39m\u001b[38;5;124mneed at least one array to stack\u001b[39m\u001b[38;5;124m'\u001b[39m)\n\u001b[0;32m    447\u001b[0m shapes \u001b[38;5;241m=\u001b[39m {arr\u001b[38;5;241m.\u001b[39mshape \u001b[38;5;28;01mfor\u001b[39;00m arr \u001b[38;5;129;01min\u001b[39;00m arrays}\n\u001b[0;32m    448\u001b[0m \u001b[38;5;28;01mif\u001b[39;00m \u001b[38;5;28mlen\u001b[39m(shapes) \u001b[38;5;241m!=\u001b[39m \u001b[38;5;241m1\u001b[39m:\n",
      "\u001b[1;31mValueError\u001b[0m: need at least one array to stack"
     ]
    }
   ],
   "source": [
    "# Import required libraries\n",
    "import numpy as np\n",
    "import rasterio as rio\n",
    "import earthpy.plot as ep\n",
    "import matplotlib.pyplot as plt\n",
    "from glob import glob\n",
    "\n",
    "# Ignore warnings for division errors\n",
    "np.seterr(divide='ignore', invalid='ignore')\n",
    "\n",
    "# Step 1: Load all band TIFF files\n",
    "bands = glob(\"./satellite-bands/*B?*.tiff\")  \n",
    "bands.sort()  # Ensure proper order\n",
    "\n",
    "# Step 2: Read each band into a list\n",
    "data = []\n",
    "for band in bands:\n",
    "    with rio.open(band, 'r') as file:\n",
    "        data.append(file.read(1))  # Read the first layer\n",
    "\n",
    "# Step 3: Convert the list into a 3D NumPy array\n",
    "stack_data = np.stack(data)\n",
    "\n",
    "# Step 4: Visualize all bands separately\n",
    "ep.plot_bands(stack_data, cmap='gist_earth', figsize=(20, 12), cols=6, cbar=False)\n",
    "plt.show()\n",
    "\n",
    "# Step 5: Create a True-Color RGB Image (Natural View)\n",
    "ep.plot_rgb(stack_data, rgb=(3,2,1), figsize=(10, 16))\n",
    "plt.show()\n",
    "\n",
    "# Step 6: Create a False-Color Image (Vegetation Analysis)\n",
    "ep.plot_rgb(stack_data, rgb=(4,3,2), figsize=(10, 16))\n",
    "plt.show()\n"
   ]
  },
  {
   "cell_type": "code",
   "execution_count": 42,
   "id": "06c08607-cdad-474c-b316-eeb724c62dc7",
   "metadata": {},
   "outputs": [
    {
     "ename": "ValueError",
     "evalue": "need at least one array to stack",
     "output_type": "error",
     "traceback": [
      "\u001b[1;31m---------------------------------------------------------------------------\u001b[0m",
      "\u001b[1;31mValueError\u001b[0m                                Traceback (most recent call last)",
      "Cell \u001b[1;32mIn[42], line 22\u001b[0m\n\u001b[0;32m     19\u001b[0m         data\u001b[38;5;241m.\u001b[39mappend(file\u001b[38;5;241m.\u001b[39mread(\u001b[38;5;241m1\u001b[39m))  \u001b[38;5;66;03m# Read the first layer\u001b[39;00m\n\u001b[0;32m     21\u001b[0m \u001b[38;5;66;03m# Step 3: Convert the list into a 3D NumPy array\u001b[39;00m\n\u001b[1;32m---> 22\u001b[0m stack_data \u001b[38;5;241m=\u001b[39m np\u001b[38;5;241m.\u001b[39mstack(data)\n\u001b[0;32m     24\u001b[0m \u001b[38;5;66;03m# Step 4: Visualize all bands separately\u001b[39;00m\n\u001b[0;32m     25\u001b[0m ep\u001b[38;5;241m.\u001b[39mplot_bands(stack_data, cmap\u001b[38;5;241m=\u001b[39m\u001b[38;5;124m'\u001b[39m\u001b[38;5;124mgist_earth\u001b[39m\u001b[38;5;124m'\u001b[39m, figsize\u001b[38;5;241m=\u001b[39m(\u001b[38;5;241m20\u001b[39m, \u001b[38;5;241m12\u001b[39m), cols\u001b[38;5;241m=\u001b[39m\u001b[38;5;241m6\u001b[39m, cbar\u001b[38;5;241m=\u001b[39m\u001b[38;5;28;01mFalse\u001b[39;00m)\n",
      "File \u001b[1;32mD:\\anaconda\\Lib\\site-packages\\numpy\\core\\shape_base.py:445\u001b[0m, in \u001b[0;36mstack\u001b[1;34m(arrays, axis, out, dtype, casting)\u001b[0m\n\u001b[0;32m    443\u001b[0m arrays \u001b[38;5;241m=\u001b[39m [asanyarray(arr) \u001b[38;5;28;01mfor\u001b[39;00m arr \u001b[38;5;129;01min\u001b[39;00m arrays]\n\u001b[0;32m    444\u001b[0m \u001b[38;5;28;01mif\u001b[39;00m \u001b[38;5;129;01mnot\u001b[39;00m arrays:\n\u001b[1;32m--> 445\u001b[0m     \u001b[38;5;28;01mraise\u001b[39;00m \u001b[38;5;167;01mValueError\u001b[39;00m(\u001b[38;5;124m'\u001b[39m\u001b[38;5;124mneed at least one array to stack\u001b[39m\u001b[38;5;124m'\u001b[39m)\n\u001b[0;32m    447\u001b[0m shapes \u001b[38;5;241m=\u001b[39m {arr\u001b[38;5;241m.\u001b[39mshape \u001b[38;5;28;01mfor\u001b[39;00m arr \u001b[38;5;129;01min\u001b[39;00m arrays}\n\u001b[0;32m    448\u001b[0m \u001b[38;5;28;01mif\u001b[39;00m \u001b[38;5;28mlen\u001b[39m(shapes) \u001b[38;5;241m!=\u001b[39m \u001b[38;5;241m1\u001b[39m:\n",
      "\u001b[1;31mValueError\u001b[0m: need at least one array to stack"
     ]
    }
   ],
   "source": [
    "# Import required libraries\n",
    "import numpy as np\n",
    "import rasterio as rio\n",
    "import earthpy.plot as ep\n",
    "import matplotlib.pyplot as plt\n",
    "from glob import glob\n",
    "\n",
    "# Ignore warnings for division errors\n",
    "np.seterr(divide='ignore', invalid='ignore')\n",
    "\n",
    "# Step 1: Load all band TIFF files\n",
    "bands = glob(\"./satellite-bands/*B?*.tiff\")  \n",
    "bands.sort()  # Ensure proper order\n",
    "\n",
    "# Step 2: Read each band into a list\n",
    "data = []\n",
    "for band in bands:\n",
    "    with rio.open(band, 'r') as file:\n",
    "        data.append(file.read(1))  # Read the first layer\n",
    "\n",
    "# Step 3: Convert the list into a 3D NumPy array\n",
    "stack_data = np.stack(data)\n",
    "\n",
    "# Step 4: Visualize all bands separately\n",
    "ep.plot_bands(stack_data, cmap='gist_earth', figsize=(20, 12), cols=6, cbar=False)\n",
    "plt.show()\n",
    "\n",
    "# Step 5: Create a True-Color RGB Image (Natural View)\n",
    "ep.plot_rgb(stack_data, rgb=(3,2,1), figsize=(10, 16))\n",
    "plt.show()\n",
    "\n",
    "# Step 6: Create a False-Color Image (Vegetation Analysis)\n",
    "ep.plot_rgb(stack_data, rgb=(4,3,2), figsize=(10, 16))\n",
    "plt.show()\n"
   ]
  },
  {
   "cell_type": "code",
   "execution_count": null,
   "id": "25352879-a3ad-438a-8972-726df45d8cdb",
   "metadata": {},
   "outputs": [],
   "source": []
  },
  {
   "cell_type": "code",
   "execution_count": null,
   "id": "4ebf1a25-8438-498b-83c8-a1e5e018d638",
   "metadata": {},
   "outputs": [],
   "source": [
    "\n",
    "\n",
    "\n",
    "\n",
    "\n",
    "\n",
    "\n",
    "\n",
    "\n",
    "\n",
    "\n",
    "\n"
   ]
  }
 ],
 "metadata": {
  "kernelspec": {
   "display_name": "Python (your_environment_name)",
   "language": "python",
   "name": "your_environment_name"
  },
  "language_info": {
   "codemirror_mode": {
    "name": "ipython",
    "version": 3
   },
   "file_extension": ".py",
   "mimetype": "text/x-python",
   "name": "python",
   "nbconvert_exporter": "python",
   "pygments_lexer": "ipython3",
   "version": "3.11.9"
  }
 },
 "nbformat": 4,
 "nbformat_minor": 5
}
