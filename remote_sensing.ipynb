# Import required libraries
import numpy as np
import rasterio as rio
import earthpy.plot as ep
import matplotlib.pyplot as plt
from glob import glob

# Ignore warnings for division errors
np.seterr(divide='ignore', invalid='ignore')

# Step 1: Load all band TIFF files
bands = glob("./satellite-bands/*B?*.tiff")  
bands.sort()  # Ensure proper order

# Step 2: Read each band into a list
data = []
for band in bands:
    with rio.open(band, 'r') as file:
        data.append(file.read(1))  # Read the first layer

# Step 3: Convert the list into a 3D NumPy array
stack_data = np.stack(data)

# Step 4: Visualize all bands separately
ep.plot_bands(stack_data, cmap='gist_earth', figsize=(20, 12), cols=6, cbar=False)
plt.show()

# Step 5: Create a True-Color RGB Image (Natural View)
ep.plot_rgb(stack_data, rgb=(3,2,1), figsize=(10, 16))
plt.show()

# Step 6: Create a False-Color Image (Vegetation Analysis)
ep.plot_rgb(stack_data, rgb=(4,3,2), figsize=(10, 16))
plt.show()

