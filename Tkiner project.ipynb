{
 "cells": [
  {
   "cell_type": "code",
   "execution_count": 122,
   "id": "6a406c3d-6194-4f3e-8081-35941940e704",
   "metadata": {},
   "outputs": [],
   "source": [
    "import tkinter as tk\n",
    "import matplotlib.pyplot as plt\n",
    "from matplotlib.figure import Figure\n",
    "from matplotlib.backends.backend_tkagg import FigureCanvasTkAgg, NavigationToolbar2Tk"
   ]
  },
  {
   "cell_type": "code",
   "execution_count": 123,
   "id": "1b31c39e-849b-4655-96fd-66db5a0f2da3",
   "metadata": {},
   "outputs": [
    {
     "data": {
      "text/plain": [
       "''"
      ]
     },
     "execution_count": 123,
     "metadata": {},
     "output_type": "execute_result"
    }
   ],
   "source": [
    "window=tk.Tk()\n",
    "window.title(\"Line Graph using Matplotlib and Tkinter\")\n",
    "window.geometry(\"600x600\")"
   ]
  },
  {
   "cell_type": "code",
   "execution_count": 124,
   "id": "1373b774-c460-4ccf-8273-69b4ca1cce09",
   "metadata": {},
   "outputs": [
    {
     "data": {
      "text/plain": [
       "[<matplotlib.lines.Line2D at 0x19171f89580>]"
      ]
     },
     "execution_count": 124,
     "metadata": {},
     "output_type": "execute_result"
    }
   ],
   "source": [
    "\n",
    "x=range(101)\n",
    "y=[i**2 for i in x]\n",
    "fig=Figure(figsize=(5,5),dpi=100)\n",
    "plot1=fig.add_subplot(111)\n",
    "plot1.plot(x,y)\n"
   ]
  },
  {
   "cell_type": "code",
   "execution_count": 125,
   "id": "43c9b303-c218-4eca-bb6b-11187507929c",
   "metadata": {},
   "outputs": [],
   "source": [
    "# Step 3: Embed the Figure in Tkinter window\n",
    "canvas = FigureCanvasTkAgg(fig, master=window)\n",
    "canvas.draw()\n",
    "canvas.get_tk_widget().pack()\n",
    "\n",
    "# Step 4: Add toolbar\n",
    "toolbar = NavigationToolbar2Tk(canvas, window)\n",
    "\n",
    "canvas.get_tk_widget().pack()\n",
    "\n",
    "# Step 5: Run the Tkinter main loop\n",
    "window.mainloop()"
   ]
  },
  {
   "cell_type": "code",
   "execution_count": null,
   "id": "e1ba3d1c-68b1-46b2-8d5e-6194f624e50c",
   "metadata": {},
   "outputs": [],
   "source": []
  }
 ],
 "metadata": {
  "kernelspec": {
   "display_name": "Python [conda env:base] *",
   "language": "python",
   "name": "conda-base-py"
  },
  "language_info": {
   "codemirror_mode": {
    "name": "ipython",
    "version": 3
   },
   "file_extension": ".py",
   "mimetype": "text/x-python",
   "name": "python",
   "nbconvert_exporter": "python",
   "pygments_lexer": "ipython3",
   "version": "3.12.7"
  }
 },
 "nbformat": 4,
 "nbformat_minor": 5
}
