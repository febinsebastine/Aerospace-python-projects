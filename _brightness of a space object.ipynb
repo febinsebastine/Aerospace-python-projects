{
 "cells": [
  {
   "cell_type": "code",
   "execution_count": null,
   "metadata": {},
   "outputs": [],
   "source": [
    "import matplotlib.pyplot as plt\n",
    "from photutils.datasets import make_4gaussians_image\n",
    "from photutils.aperture import CircularAperture, ApertureStats\n",
    "\n",
    "# Create synthetic image with four Gaussian sources\n",
    "data = make_4gaussians_image()\n",
    "\n",
    "# Define a circular aperture at (x, y) = (150, 25) with radius 8\n",
    "aperture = CircularAperture((150, 25), r=8)\n",
    "\n",
    "# Compute statistics within the aperture\n",
    "statistics = ApertureStats(data, aperture)\n",
    "\n",
    "# Print the total brightness (sum of pixel values inside the aperture)\n",
    "print(f\"Brightness = {statistics.sum}\")\n",
    "\n",
    "# Plot the image and overlay the aperture\n",
    "plt.figure(figsize=(8, 8))\n",
    "plt.imshow(data, cmap='gray', origin='upper')\n",
    "aperture.plot(color='blue', lw=1.5)\n",
    "plt.colorbar(label=\"Counts\")\n",
    "plt.title(\"Circular Aperture Image\")\n",
    "plt.show()\n"
   ]
  }
 ],
 "metadata": {
  "kernelspec": {
   "display_name": "Python 3",
   "language": "python",
   "name": "python3"
  },
  "language_info": {
   "codemirror_mode": {
    "name": "ipython",
    "version": 3
   },
   "file_extension": ".py",
   "mimetype": "text/x-python",
   "name": "python",
   "nbconvert_exporter": "python",
   "pygments_lexer": "ipython3",
   "version": "3.8.5"
  }
 },
 "nbformat": 4,
 "nbformat_minor": 4
}
