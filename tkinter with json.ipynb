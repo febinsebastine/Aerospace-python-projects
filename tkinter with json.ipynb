{
 "cells": [
  {
   "cell_type": "code",
   "execution_count": 3,
   "id": "591e52d9-744b-4714-a6ec-9b00b3a5df61",
   "metadata": {},
   "outputs": [],
   "source": [
    "import tkinter\n",
    "from tkinter import ttk\n",
    "import json\n",
    "import sv_ttk\n",
    "\n",
    "rockets = [\n",
    "    {'Name': 'Atlas V', 'Operator': 'United Launch Alliance'},\n",
    "    {'Name': 'Delta IV', 'Operator': 'United Launch Alliance'}\n",
    "]\n",
    "\n",
    "def download_json():\n",
    "    with open('rockets.json', 'w') as file:\n",
    "        json.dump(rockets, file)\n",
    "\n",
    "root = tkinter.Tk()\n",
    "root.title(\"Rocket Exporter\")\n",
    "sv_ttk.set_theme(\"dark\")\n",
    "\n",
    "ttk.Button(root, text=\"Download JSON\", command=download_json).pack(pady=20)\n",
    "\n",
    "root.mainloop()\n"
   ]
  },
  {
   "cell_type": "code",
   "execution_count": null,
   "id": "cacb95ed-8dee-4227-9aef-8e47e07f60c6",
   "metadata": {},
   "outputs": [],
   "source": []
  }
 ],
 "metadata": {
  "kernelspec": {
   "display_name": "Python [conda env:base] *",
   "language": "python",
   "name": "conda-base-py"
  },
  "language_info": {
   "codemirror_mode": {
    "name": "ipython",
    "version": 3
   },
   "file_extension": ".py",
   "mimetype": "text/x-python",
   "name": "python",
   "nbconvert_exporter": "python",
   "pygments_lexer": "ipython3",
   "version": "3.12.7"
  }
 },
 "nbformat": 4,
 "nbformat_minor": 5
}
