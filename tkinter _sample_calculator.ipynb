{
 "cells": [
  {
   "cell_type": "code",
   "execution_count": null,
   "id": "e71aae35-6ee6-413c-b7bd-884816b5fb8d",
   "metadata": {},
   "outputs": [],
   "source": [
    "import tkinter as tk\n",
    "window=tk.Tk()\n",
    "label=tk.Label(text=\"Addition calculator\",font=(\"Arial\",13))\n",
    "label=label.grid(row=0,column=0,columnspan=2,pady=10)\n",
    "tk.Label(text=\"Number 1:\").grid(row=1, column=0, padx=10, pady=5, sticky=\"e\")\n",
    "tk.Label(text=\"Number 2:\").grid(row=2, column=0, padx=10, pady=5, sticky=\"e\")\n",
    "number1=tk.Entry(window)\n",
    "number1.grid(row=1,column=1,pady=5,sticky=\"e\")\n",
    "number2=tk.Entry(window)\n",
    "number2.grid(row=2,column=1, padx=5, sticky=\"e\")\n",
    "def add_number():\n",
    "    num1=float(number1.get())\n",
    "    num2=float(number2.get())\n",
    "    total=num1+num2\n",
    "    result.config(text=f\"Result: {total}\")\n",
    "result=tk.Label(window,text=\"\",font=(\"Arial\",14))\n",
    "result.grid(row=3,column=0,padx=10, pady=5, sticky=\"e\")\n",
    "\n",
    "button=tk.Button(window,text=\"ADD\",command=add_number)\n",
    "button.grid(row=4,column=0,padx=10, pady=5)\n",
    "\n",
    "window.title(\"calculator\")\n",
    "window.mainloop()"
   ]
  },
  {
   "cell_type": "code",
   "execution_count": null,
   "id": "afb22ceb-fb7a-4d8e-9914-c35b6239d2a2",
   "metadata": {},
   "outputs": [],
   "source": []
  }
 ],
 "metadata": {
  "kernelspec": {
   "display_name": "Python [conda env:base] *",
   "language": "python",
   "name": "conda-base-py"
  },
  "language_info": {
   "codemirror_mode": {
    "name": "ipython",
    "version": 3
   },
   "file_extension": ".py",
   "mimetype": "text/x-python",
   "name": "python",
   "nbconvert_exporter": "python",
   "pygments_lexer": "ipython3",
   "version": "3.12.7"
  }
 },
 "nbformat": 4,
 "nbformat_minor": 5
}
