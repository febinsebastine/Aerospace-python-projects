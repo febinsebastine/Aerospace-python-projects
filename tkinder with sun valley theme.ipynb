{
 "cells": [
  {
   "cell_type": "code",
   "execution_count": 11,
   "id": "5b49dbb8-90eb-40fe-932a-206d8e36082c",
   "metadata": {},
   "outputs": [],
   "source": [
    "import tkinter\n",
    "from tkinter import ttk\n",
    "import sv_ttk\n",
    "\n",
    "# Create window\n",
    "root = tkinter.Tk()\n",
    "root.title(\"Rocketship Form\")\n",
    "root.geometry(\"500x300\")\n",
    "\n",
    "# Apply dark theme\n",
    "sv_ttk.set_theme(\"dark\")\n",
    "\n",
    "# Create custom padding style\n",
    "style = ttk.Style()\n",
    "style.configure('Padding.TLabel', padding=(0, 10, 0, 5))  # (L, T, R, B)\n",
    "\n",
    "# Rocketship Name\n",
    "name_label = ttk.Label(root, text=\"Rocketship Name:\", style='Padding.TLabel')\n",
    "name_label.pack()\n",
    "name_entry = ttk.Entry(root)\n",
    "name_entry.pack()\n",
    "\n",
    "# Destination\n",
    "destination_label = ttk.Label(root, text=\"Rocketship Destination:\", style='Padding.TLabel')\n",
    "destination_label.pack()\n",
    "destination_entry = ttk.Entry(root)\n",
    "destination_entry.pack()\n",
    "\n",
    "# Mass\n",
    "mass_label = ttk.Label(root, text=\"Rocketship Mass (kg):\", style='Padding.TLabel')\n",
    "mass_label.pack()\n",
    "mass_entry = ttk.Entry(root)\n",
    "mass_entry.pack()\n",
    "\n",
    "# Output Label\n",
    "output_label = ttk.Label(root, text=\"\", style='Padding.TLabel')\n",
    "output_label.pack()\n",
    "\n",
    "# Button Action\n",
    "def blast_off():\n",
    "    name = name_entry.get()\n",
    "    destination = destination_entry.get()\n",
    "    mass = mass_entry.get()\n",
    "    output = f\"{name} is heading to the {destination} and weighs {mass} kg!\"\n",
    "    output_label.configure(text=output)\n",
    "\n",
    "# Blast Off Button\n",
    "blast_button = ttk.Button(root, text=\"Blast Off\", command=blast_off)\n",
    "blast_button.pack()\n",
    "\n",
    "# Run the app\n",
    "root.mainloop()\n"
   ]
  },
  {
   "cell_type": "code",
   "execution_count": null,
   "id": "31e823e6-9b9e-4632-8201-d2a3bf27ad2b",
   "metadata": {},
   "outputs": [],
   "source": []
  }
 ],
 "metadata": {
  "kernelspec": {
   "display_name": "Python [conda env:base] *",
   "language": "python",
   "name": "conda-base-py"
  },
  "language_info": {
   "codemirror_mode": {
    "name": "ipython",
    "version": 3
   },
   "file_extension": ".py",
   "mimetype": "text/x-python",
   "name": "python",
   "nbconvert_exporter": "python",
   "pygments_lexer": "ipython3",
   "version": "3.12.7"
  }
 },
 "nbformat": 4,
 "nbformat_minor": 5
}
